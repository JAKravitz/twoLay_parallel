{
 "cells": [
  {
   "cell_type": "code",
   "execution_count": null,
   "id": "5349f0d5",
   "metadata": {},
   "outputs": [],
   "source": [
    "import pickle\n",
    "import pandas as pd\n",
    "import numpy as np\n",
    "\n",
    "import random\n",
    "\n",
    "data0 = {'Green_algae': {},\n",
    "         'Cryptophytes': {},\n",
    "         'Diatoms': {},\n",
    "         'Dinoflagellates': {},\n",
    "         'Heterokonts': {},\n",
    "         'Haptophytes': {},\n",
    "         'Cyano_blue': {},\n",
    "         'Cyano_red': {},\n",
    "         'Rhodophytes': {},\n",
    "         'Eustigmatophyte': {},\n",
    "         'Raphidophyte': {},\n",
    "         }\n",
    "\n",
    "for k in range(1,25):\n",
    "    print (k)\n",
    "    \n",
    "    dr = 'run_{}'.format(k)\n",
    "    \n",
    "    with open('{}/phytodata_pbs_01.dat'.format(dr), 'rb') as picklefile:\n",
    "        phytodata = pickle.load(picklefile)\n",
    "\n",
    "    for sp in phytodata.keys():\n",
    "        # print (sp)\n",
    "        pft = phytodata[sp][random.choice(list(phytodata[sp]))]['PFT1']\n",
    "        print (sp, pft)\n",
    "        data0[pft][sp] = phytodata[sp]"
   ]
  },
  {
   "cell_type": "code",
   "execution_count": null,
   "id": "5c82dd01",
   "metadata": {},
   "outputs": [],
   "source": [
    "with open('run_1/phytodata_pbs_01.dat', 'rb') as picklefile:\n",
    "    phytodata = pickle.load(picklefile)\n",
    "\n",
    "count=1\n",
    "for key in phytodata.keys():\n",
    "    print('{}:'.format(count), key)\n",
    "    count+=1\n",
    "\n",
    "tt = 0\n",
    "for key in phytodata.keys():\n",
    "    print('Time to run {} is {:.2f} seconds.'.format(key, phytodata[key]['time']))\n",
    "    tt = tt + phytodata[key]['time']\n",
    "print('Total run time is seconds: {:.2f}'.format(tt))"
   ]
  }
 ],
 "metadata": {
  "kernelspec": {
   "display_name": "Python 3 (ipykernel)",
   "language": "python",
   "name": "python3"
  },
  "language_info": {
   "codemirror_mode": {
    "name": "ipython",
    "version": 3
   },
   "file_extension": ".py",
   "mimetype": "text/x-python",
   "name": "python",
   "nbconvert_exporter": "python",
   "pygments_lexer": "ipython3",
   "version": "3.8.8"
  }
 },
 "nbformat": 4,
 "nbformat_minor": 5
}
