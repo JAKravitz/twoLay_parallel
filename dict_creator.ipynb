{
 "cells": [
  {
   "cell_type": "code",
   "execution_count": null,
   "id": "3f2c7891",
   "metadata": {},
   "outputs": [],
   "source": [
    "import numpy as np\n",
    "import pandas as pd\n",
    "import pickle"
   ]
  },
  {
   "cell_type": "code",
   "execution_count": null,
   "id": "86b90162",
   "metadata": {},
   "outputs": [],
   "source": [
    "phytodata = pd.read_csv('phyto_data.csv')\n",
    "phytos = phytodata.Species\n",
    "\n",
    "print(len(phytos))\n",
    "print(list(phytos))"
   ]
  },
  {
   "cell_type": "code",
   "execution_count": null,
   "id": "c0575390",
   "metadata": {},
   "outputs": [],
   "source": [
    "data_dict = {}\n",
    "\n",
    "count = 0\n",
    "name = 0\n",
    "for p in phytos:\n",
    "    if count%3 == 0:\n",
    "        name = name+1\n",
    "        data_dict[name] = []\n",
    "        data_dict[name].append(p)\n",
    "    else:\n",
    "        data_dict[name].append(p)\n",
    "    count+=1\n",
    "\n",
    "print(data_dict.keys())"
   ]
  },
  {
   "cell_type": "code",
   "execution_count": null,
   "id": "4c438b91",
   "metadata": {},
   "outputs": [],
   "source": [
    "for key in data_dict.keys():\n",
    "    print('On node {} are processed: {}'.format(key, data_dict[key]))"
   ]
  },
  {
   "cell_type": "code",
   "execution_count": null,
   "id": "85352fab",
   "metadata": {},
   "outputs": [],
   "source": [
    "# with open('phyto_dict.pkl', 'wb') as picklefile:\n",
    "#     pickle.dump(data_dict, picklefile)"
   ]
  }
 ],
 "metadata": {
  "kernelspec": {
   "display_name": "Python 3 (ipykernel)",
   "language": "python",
   "name": "python3"
  },
  "language_info": {
   "codemirror_mode": {
    "name": "ipython",
    "version": 3
   },
   "file_extension": ".py",
   "mimetype": "text/x-python",
   "name": "python",
   "nbconvert_exporter": "python",
   "pygments_lexer": "ipython3",
   "version": "3.8.8"
  }
 },
 "nbformat": 4,
 "nbformat_minor": 5
}
